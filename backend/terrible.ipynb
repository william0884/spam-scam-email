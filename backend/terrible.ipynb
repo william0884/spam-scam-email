{
 "cells": [
  {
   "cell_type": "code",
   "execution_count": 11,
   "id": "b35e868c",
   "metadata": {},
   "outputs": [],
   "source": [
    "import requests\n",
    "import random \n",
    "import json\n",
    "import re"
   ]
  },
  {
   "cell_type": "code",
   "execution_count": null,
   "id": "12654b3c",
   "metadata": {},
   "outputs": [],
   "source": [
    "from typing import Optional\n",
    "\n",
    "from fastapi import FastAPI\n",
    "\n",
    "app = FastAPI()\n",
    "\n",
    "\n",
    "@app.get(\"/data\")\n",
    "def read_data():\n",
    "    rannm = random.randint(1, 3075362)\n",
    "    rancomp = requests.get('https://data.gov.au/data/api/3/action/datastore_search?resource_id=cb7e4eb5-ed46-4c6c-97a0-4532f4479b7d&limit=1&offset={}'.format(random.randint(1, 3075362))).json()\n",
    "    res = re.sub(' +', ' ', rancomp['result']['records'][0]['Company Name'])\n",
    "\n",
    "    \n",
    "    currency = requests.get('https://api.currencyfreaks.com/latest?apikey=4f7765e522f84a37ab63672b887ed45e')\n",
    "    person = requests.get(\"https://randomuser.me/api/\").json()\n",
    "    scamname = person['results'][0]['name']\n",
    "    name = '{} {} {}'.format(scamname['title'], scamname['first'], scamname['last'])\n",
    "    location = person['results'][0]['location']\n",
    "    scamloc = \"{}, {}\".format(location['city'], location['country'])\n",
    "    return ({\"name\" : name, \"location\" : scamloc,\n",
    "        \"company\": res, \"currency\" : random.choice(list(currency.json()['rates'].keys()))})\n"
   ]
  },
  {
   "cell_type": "code",
   "execution_count": 73,
   "id": "c699e967",
   "metadata": {},
   "outputs": [],
   "source": [
    "person = requests.get(\"https://randomuser.me/api/\").json()"
   ]
  },
  {
   "cell_type": "code",
   "execution_count": 78,
   "id": "8238e489",
   "metadata": {},
   "outputs": [
    {
     "data": {
      "text/plain": [
       "{'street': {'number': 5601, 'name': 'Mornington Road'},\n",
       " 'city': 'Gisborne',\n",
       " 'state': 'Northland',\n",
       " 'country': 'New Zealand',\n",
       " 'postcode': 52145,\n",
       " 'coordinates': {'latitude': '60.3320', 'longitude': '80.4673'},\n",
       " 'timezone': {'offset': '+8:00',\n",
       "  'description': 'Beijing, Perth, Singapore, Hong Kong'}}"
      ]
     },
     "execution_count": 78,
     "metadata": {},
     "output_type": "execute_result"
    }
   ],
   "source": [
    "person['results'][0]['location']"
   ]
  },
  {
   "cell_type": "code",
   "execution_count": null,
   "id": "713cc54b",
   "metadata": {},
   "outputs": [],
   "source": []
  },
  {
   "cell_type": "code",
   "execution_count": null,
   "id": "99f660bb",
   "metadata": {},
   "outputs": [],
   "source": []
  },
  {
   "cell_type": "code",
   "execution_count": null,
   "id": "49d28560",
   "metadata": {},
   "outputs": [],
   "source": []
  },
  {
   "cell_type": "code",
   "execution_count": null,
   "id": "e09b3b45",
   "metadata": {},
   "outputs": [],
   "source": []
  },
  {
   "cell_type": "code",
   "execution_count": null,
   "id": "1fdacfc2",
   "metadata": {},
   "outputs": [],
   "source": []
  }
 ],
 "metadata": {
  "kernelspec": {
   "display_name": "Python 3",
   "language": "python",
   "name": "python3"
  },
  "language_info": {
   "codemirror_mode": {
    "name": "ipython",
    "version": 3
   },
   "file_extension": ".py",
   "mimetype": "text/x-python",
   "name": "python",
   "nbconvert_exporter": "python",
   "pygments_lexer": "ipython3",
   "version": "3.7.3"
  }
 },
 "nbformat": 4,
 "nbformat_minor": 5
}
