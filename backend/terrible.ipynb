{
 "cells": [
  {
   "cell_type": "code",
   "execution_count": 2,
   "id": "e512a36a",
   "metadata": {},
   "outputs": [],
   "source": [
    "import requests\n",
    "import random \n",
    "import json\n",
    "import re\n",
    "import configparser\n"
   ]
  },
  {
   "cell_type": "code",
   "execution_count": 5,
   "id": "d1feb35f",
   "metadata": {},
   "outputs": [
    {
     "data": {
      "text/plain": [
       "[]"
      ]
     },
     "execution_count": 5,
     "metadata": {},
     "output_type": "execute_result"
    }
   ],
   "source": [
    "config = configparser.ConfigParser()\n",
    "config.sections()\n",
    "\n",
    "#config.read('config.ini')\n",
    "config.read('config.ini')\n",
    "\n",
    "config.sections()"
   ]
  },
  {
   "cell_type": "code",
   "execution_count": 6,
   "id": "30dc86c1",
   "metadata": {},
   "outputs": [],
   "source": [
    "key = config['DEFAULT']['apikey']"
   ]
  },
  {
   "cell_type": "code",
   "execution_count": 1,
   "id": "426859c9",
   "metadata": {},
   "outputs": [],
   "source": [
    "from typing import Optional\n",
    "\n",
    "from fastapi import FastAPI\n",
    "from fastapi.middleware.cors import CORSMiddleware\n",
    "\n",
    "app = FastAPI()\n",
    "\n",
    "origins = [\n",
    "    \"http://localhost.tiangolo.com\",\n",
    "    \"https://localhost.tiangolo.com\",\n",
    "    \"http://localhost\",\n",
    "    \"http://localhost:9887\"\n",
    "    \"http://172.24.252.203:9887\",\n",
    "    \"*\",\n",
    "]\n",
    "\n",
    "app.add_middleware(\n",
    "    CORSMiddleware,\n",
    "    allow_origins=[\"*\"],\n",
    "    allow_credentials=True,\n",
    "    allow_methods=[\"*\"],\n",
    "    allow_headers=[\"*\"],\n",
    ")\n",
    "\n",
    "@app.get(\"/data\")\n",
    "def read_data():\n",
    "    \n",
    "    rannm = random.randint(1, 3075362)\n",
    "    rancomp = requests.get('https://data.gov.au/data/api/3/action/datastore_search?resource_id=cb7e4eb5-ed46-4c6c-97a0-4532f4479b7d&limit=1&offset={}'.format(random.randint(1, 3075362))).json()\n",
    "    res = re.sub(' +', ' ', rancomp['result']['records'][0]['Company Name'])\n",
    "\n",
    "\n",
    "    currency = requests.get('https://api.currencyfreaks.com/latest?apikey={}'.format(key))\n",
    "    currencyvalue = random.choice(list(currency.json()['rates'].keys()))\n",
    "    dollaramount = random.randint(1,100)\n",
    "    dayransom = random.randint(1,10)\n",
    "\n",
    "    person = requests.get(\"https://randomuser.me/api/\").json()\n",
    "    scamname = person['results'][0]['name']\n",
    "    name = '{} {} {}'.format(scamname['title'], scamname['first'], scamname['last'])\n",
    "    location = person['results'][0]['location']\n",
    "    scamloc = \"{}, {}\".format(location['city'], location['country'])\n",
    "\n",
    "    webhist = requests.get('http://localhost:5600/api/0/buckets/aw-watcher-web-chrome/events?limit=1').json()\n",
    "\n",
    "    timestamp = webhist[0]['timestamp']\n",
    "    duration = webhist[0]['duration']\n",
    "    webhisty = webhist[0]['data']['url']\n",
    "    bodytext = \"\"\"Hello, My name is {} and I am located in {}. My company is {}. On {} you visited the url {}. You must send {} {} via this link: http://example.com within {} days of opening this email. If you do not I will tell your friends and family that you visited the site. Be kind, {}\"\"\".format(name, scamloc, res, timestamp, webhisty, dollaramount, currencyvalue, dayransom, name)\n",
    "    \n",
    "    return(bodytext)"
   ]
  },
  {
   "cell_type": "code",
   "execution_count": null,
   "id": "d5576f7a",
   "metadata": {},
   "outputs": [],
   "source": []
  }
 ],
 "metadata": {
  "kernelspec": {
   "display_name": "Python 3 (ipykernel)",
   "language": "python",
   "name": "python3"
  },
  "language_info": {
   "codemirror_mode": {
    "name": "ipython",
    "version": 3
   },
   "file_extension": ".py",
   "mimetype": "text/x-python",
   "name": "python",
   "nbconvert_exporter": "python",
   "pygments_lexer": "ipython3",
   "version": "3.9.2"
  }
 },
 "nbformat": 4,
 "nbformat_minor": 5
}
